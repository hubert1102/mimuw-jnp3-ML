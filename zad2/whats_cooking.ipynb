{
  "nbformat": 4,
  "nbformat_minor": 0,
  "metadata": {
    "colab": {
      "name": "whats_cooking.ipynb",
      "provenance": [],
      "collapsed_sections": [],
      "machine_shape": "hm"
    },
    "kernelspec": {
      "display_name": "Python 3",
      "name": "python3"
    },
    "accelerator": "TPU"
  },
  "cells": [
    {
      "cell_type": "code",
      "metadata": {
        "colab": {
          "resources": {
            "http://localhost:8080/nbextensions/google.colab/files.js": {
              "data": "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",
              "ok": true,
              "headers": [
                [
                  "content-type",
                  "application/javascript"
                ]
              ],
              "status": 200,
              "status_text": "OK"
            }
          },
          "base_uri": "https://localhost:8080/",
          "height": 92
        },
        "id": "FnTjwWWFCoRY",
        "outputId": "1179eb43-851b-4db1-ff3b-5fb9a693ceea"
      },
      "source": [
        "from google.colab import files\r\n",
        "files.upload() #upload kaggle.json"
      ],
      "execution_count": null,
      "outputs": []
    },
    {
      "cell_type": "code",
      "metadata": {
        "colab": {
          "base_uri": "https://localhost:8080/"
        },
        "id": "oU9zO9_nDIxd",
        "outputId": "610dbfe8-c22c-4481-a162-cac247d6b1d9"
      },
      "source": [
        "!pip install -q kaggle\r\n",
        "!mkdir -p ~/.kaggle\r\n",
        "!cp kaggle.json ~/.kaggle/\r\n",
        "!ls ~/.kaggle\r\n",
        "!chmod 600 /root/.kaggle/kaggle.json"
      ],
      "execution_count": null,
      "outputs": []
    },
    {
      "cell_type": "code",
      "metadata": {
        "colab": {
          "base_uri": "https://localhost:8080/"
        },
        "id": "mai0IMiYDqob",
        "outputId": "1976618e-3248-48c2-b298-8db0c873e6ce"
      },
      "source": [
        "\r\n",
        "!kaggle competitions download -c whats-cooking"
      ],
      "execution_count": null,
      "outputs": []
    },
    {
      "cell_type": "code",
      "metadata": {
        "colab": {
          "base_uri": "https://localhost:8080/"
        },
        "id": "aQUUMU2xDkmQ",
        "outputId": "1683d557-1838-4c7a-fa7d-04429796cfbf"
      },
      "source": [
        "!unzip -q train.json.zip -d .\r\n",
        "!unzip -q test.json.zip -d .\r\n",
        "!ls"
      ],
      "execution_count": null,
      "outputs": []
    },
    {
      "cell_type": "code",
      "metadata": {
        "colab": {
          "base_uri": "https://localhost:8080/"
        },
        "id": "c22qfDhjWXrn",
        "outputId": "faa0d2eb-618a-4ab4-a8bd-3fd8c1e1e52a"
      },
      "source": [
        "!pip install tensorflow-text"
      ],
      "execution_count": null,
      "outputs": []
    },
    {
      "cell_type": "code",
      "metadata": {
        "colab": {
          "base_uri": "https://localhost:8080/"
        },
        "id": "j5vY2VhPICdS",
        "outputId": "37f4833f-7985-43bb-ccc4-a73a064b5e37"
      },
      "source": [
        "!pip install tf-models-official"
      ],
      "execution_count": null,
      "outputs": []
    },
    {
      "cell_type": "code",
      "metadata": {
        "id": "cz2oHud7D9qO"
      },
      "source": [
        "import numpy as np\r\n",
        "import pandas as pd\r\n",
        "import tensorflow as tf\r\n",
        "import re\r\n",
        "import tensorflow_text\r\n",
        "from tensorflow.keras.layers import Dense, Input, Dropout\r\n",
        "from tensorflow.keras.optimizers import Adam\r\n",
        "from tensorflow.keras.models import Model\r\n",
        "from tensorflow.keras.callbacks import ModelCheckpoint\r\n",
        "import tensorflow_hub as hub\r\n",
        "tf.get_logger().setLevel('ERROR')"
      ],
      "execution_count": null,
      "outputs": []
    },
    {
      "cell_type": "code",
      "metadata": {
        "colab": {
          "base_uri": "https://localhost:8080/"
        },
        "id": "kpp-ygEPrWvt",
        "outputId": "2078226f-f63f-4961-8ffe-28f6d33c0c11"
      },
      "source": [
        "import os\r\n",
        "\r\n",
        "if os.environ['COLAB_TPU_ADDR']:\r\n",
        "  cluster_resolver = tf.distribute.cluster_resolver.TPUClusterResolver(tpu='grpc://' + os.environ['COLAB_TPU_ADDR'])\r\n",
        "  tf.config.experimental_connect_to_cluster(cluster_resolver)\r\n",
        "  tf.tpu.experimental.initialize_tpu_system(cluster_resolver)\r\n",
        "  strategy = tf.distribute.TPUStrategy(cluster_resolver)\r\n",
        "  print('Using TPU')\r\n",
        "elif tf.test.is_gpu_available():\r\n",
        "  strategy = tf.distribute.MirroredStrategy()\r\n",
        "  print('Using GPU')\r\n",
        "else:\r\n",
        "  raise ValueError('Running on CPU is not recomended.')"
      ],
      "execution_count": null,
      "outputs": []
    },
    {
      "cell_type": "code",
      "metadata": {
        "id": "6wYc7jFiEG6Y"
      },
      "source": [
        "module_url = \"https://tfhub.dev/tensorflow/bert_en_uncased_L-12_H-768_A-12/3\"\r\n",
        "bert_preprocess_url = \"https://tfhub.dev/tensorflow/bert_en_uncased_preprocess/2\""
      ],
      "execution_count": null,
      "outputs": []
    },
    {
      "cell_type": "code",
      "metadata": {
        "id": "6hfgo9jKEb22"
      },
      "source": [
        "train_df = pd.read_json('train.json')\r\n",
        "test_df = pd.read_json('test.json')"
      ],
      "execution_count": null,
      "outputs": []
    },
    {
      "cell_type": "code",
      "metadata": {
        "colab": {
          "base_uri": "https://localhost:8080/",
          "height": 206
        },
        "id": "XuzJplz9LxY9",
        "outputId": "e3eafa1c-cad8-44c2-ad5c-35bb0c541190"
      },
      "source": [
        "train_df.head()"
      ],
      "execution_count": null,
      "outputs": []
    },
    {
      "cell_type": "code",
      "metadata": {
        "colab": {
          "base_uri": "https://localhost:8080/"
        },
        "id": "5stUM1gzf28o",
        "outputId": "9c282406-fb0a-4aba-dbe9-0f816daf5b57"
      },
      "source": [
        "label_count = train_df['cuisine'].value_counts()\r\n",
        "label_count['italian']"
      ],
      "execution_count": null,
      "outputs": []
    },
    {
      "cell_type": "code",
      "metadata": {
        "colab": {
          "base_uri": "https://localhost:8080/",
          "height": 472
        },
        "id": "zX-OXgSoRXBx",
        "outputId": "c6c373e3-c339-49e5-f043-939749b74fd4"
      },
      "source": [
        "import matplotlib.pyplot as plt\r\n",
        "y = train_df['cuisine'].to_numpy()\r\n",
        "\r\n",
        "plt.rcdefaults()\r\n",
        "fig, ax = plt.subplots()\r\n",
        "\r\n",
        "# Example data\r\n",
        "cuisine = pd.unique(train_df.cuisine)\r\n",
        "y_pos = np.arange(len(cuisine))\r\n",
        "occ = [label_count[c] / len(train_df) for c in cuisine]\r\n",
        "\r\n",
        "ax.barh(y_pos, occ, align='center')\r\n",
        "ax.set_yticks(y_pos)\r\n",
        "ax.set_yticklabels(cuisine)\r\n",
        "ax.invert_yaxis()  # labels read top-to-bottom\r\n",
        "ax.set_xlabel('% of occurence')\r\n",
        "ax.set_title('Popularity of cuisine in the dataset')\r\n",
        "\r\n",
        "plt.show()"
      ],
      "execution_count": null,
      "outputs": []
    },
    {
      "cell_type": "code",
      "metadata": {
        "id": "O2C53MCmjOsv"
      },
      "source": [
        "labels = pd.unique(train_df.cuisine)"
      ],
      "execution_count": null,
      "outputs": []
    },
    {
      "cell_type": "code",
      "metadata": {
        "id": "NoxViqQQDLMx"
      },
      "source": [
        "labels_dict = {label : i for label, i in zip(labels, range(len(labels)))}"
      ],
      "execution_count": null,
      "outputs": []
    },
    {
      "cell_type": "code",
      "metadata": {
        "id": "8tx5qBLmb7ci"
      },
      "source": [
        "def ingredients_list_to_sentence(ingredients):\r\n",
        "  ing_str = ', '.join(ingredients)\r\n",
        "  sentence = 'cuisine with '\r\n",
        "  sentence += ing_str\r\n",
        "  return sentence\r\n",
        "\r\n",
        "train_df.ingredients = train_df.ingredients.apply(lambda ingredients : ingredients_list_to_sentence(ingredients))\r\n",
        "test_df.ingredients = test_df.ingredients.apply(lambda ingredients : ingredients_list_to_sentence(ingredients))"
      ],
      "execution_count": null,
      "outputs": []
    },
    {
      "cell_type": "code",
      "metadata": {
        "colab": {
          "base_uri": "https://localhost:8080/"
        },
        "id": "LcO-9ILtdGvU",
        "outputId": "540acd82-48fd-4ea9-d7f7-1d10ce15114a"
      },
      "source": [
        "print(train_df.head())\r\n",
        "print(test_df.head())"
      ],
      "execution_count": null,
      "outputs": []
    },
    {
      "cell_type": "code",
      "metadata": {
        "id": "E1wEru4Kydts"
      },
      "source": [
        "target_df = train_df.pop('cuisine')\r\n",
        "ids = train_df.pop('id')\r\n",
        "\r\n",
        "test_ids = test_df.pop('id')"
      ],
      "execution_count": null,
      "outputs": []
    },
    {
      "cell_type": "code",
      "metadata": {
        "id": "mig47crFDnop"
      },
      "source": [
        "target_df = target_df.apply(lambda x : labels_dict[x])"
      ],
      "execution_count": null,
      "outputs": []
    },
    {
      "cell_type": "code",
      "metadata": {
        "id": "fBo9uTPWVAvZ"
      },
      "source": [
        "target_np = target_df.to_numpy()\r\n",
        "targets = np.zeros((target_np.size, target_np.max()+1))\r\n",
        "targets[np.arange(target_np.size),target_np] = 1"
      ],
      "execution_count": null,
      "outputs": []
    },
    {
      "cell_type": "code",
      "metadata": {
        "colab": {
          "base_uri": "https://localhost:8080/",
          "height": 206
        },
        "id": "eZEpHGiG_qne",
        "outputId": "5443137a-c637-43c4-f51c-ca04de0b1859"
      },
      "source": [
        "train_df.head()"
      ],
      "execution_count": null,
      "outputs": []
    },
    {
      "cell_type": "code",
      "metadata": {
        "id": "9E0ejKZJriyU"
      },
      "source": [
        "def make_bert_preprocess_model(sentence_features, seq_length=128):\r\n",
        "  input_segments = [\r\n",
        "      tf.keras.layers.Input(shape=(), dtype=tf.string, name=ft)\r\n",
        "      for ft in sentence_features]\r\n",
        "\r\n",
        "  bert_preprocess = hub.load(bert_preprocess_url)\r\n",
        "  tokenizer = hub.KerasLayer(bert_preprocess.tokenize, name='tokenizer')\r\n",
        "  segments = [tokenizer(s) for s in input_segments]\r\n",
        "\r\n",
        "  truncated_segments = segments\r\n",
        "\r\n",
        "  packer = hub.KerasLayer(bert_preprocess.bert_pack_inputs,\r\n",
        "                          arguments=dict(seq_length=seq_length),\r\n",
        "                          name='packer')\r\n",
        "  \r\n",
        "  model_inputs = packer(truncated_segments)\r\n",
        "  return tf.keras.Model(input_segments, model_inputs)"
      ],
      "execution_count": null,
      "outputs": []
    },
    {
      "cell_type": "code",
      "metadata": {
        "id": "iMWpOPoFr8Ih"
      },
      "source": [
        "AUTOTUNE = tf.data.experimental.AUTOTUNE\r\n",
        "\r\n",
        "def load_dataset_from_df(dataset_df, targets, batch_size,\r\n",
        "                           bert_preprocess_model):\r\n",
        "  dataset = tf.data.Dataset.from_tensor_slices((bert_preprocess_model(dataset_df.values), targets))\r\n",
        "  dataset = dataset.shuffle(buffer_size=1)\r\n",
        "  \r\n",
        "  DATASET_SIZE = len(targets)\r\n",
        "  train_size = int(0.6 * DATASET_SIZE)\r\n",
        "  val_size = int(0.2 * DATASET_SIZE)\r\n",
        "  test_size = int(0.2 * DATASET_SIZE)\r\n",
        "\r\n",
        "  train_dataset = dataset.take(train_size)\r\n",
        "  test_dataset = dataset.skip(train_size)\r\n",
        "  val_dataset = test_dataset.skip(test_size)\r\n",
        "  test_dataset = test_dataset.take(test_size)\r\n",
        "\r\n",
        "  train_dataset = train_dataset.batch(batch_size)\r\n",
        "  test_dataset = test_dataset.batch(batch_size)\r\n",
        "  val_dataset = val_dataset.batch(batch_size)\r\n",
        "\r\n",
        "  train_dataset = train_dataset.cache().prefetch(buffer_size=AUTOTUNE)\r\n",
        "  test_dataset = test_dataset.cache().prefetch(buffer_size=AUTOTUNE)\r\n",
        "  val_dataset = val_dataset.cache().prefetch(buffer_size=AUTOTUNE)\r\n",
        "  return train_dataset, val_dataset, test_dataset"
      ],
      "execution_count": null,
      "outputs": []
    },
    {
      "cell_type": "code",
      "metadata": {
        "id": "hxMn8VX0zXpn"
      },
      "source": [
        "def build_classifier_model(num_classes):\r\n",
        "  inputs = dict(\r\n",
        "      input_word_ids=tf.keras.layers.Input(shape=(256), dtype=tf.int32),\r\n",
        "      input_mask=tf.keras.layers.Input(shape=(256), dtype=tf.int32),\r\n",
        "      input_type_ids=tf.keras.layers.Input(shape=(256), dtype=tf.int32),\r\n",
        "  )\r\n",
        "\r\n",
        "  encoder = hub.KerasLayer(module_url, trainable=True, name='encoder')\r\n",
        "  net = encoder(inputs)['pooled_output']\r\n",
        "  net = tf.keras.layers.Dropout(rate=0.5)(net)\r\n",
        "  net = tf.keras.layers.Dense(num_classes, activation='softmax', name='classifier')(net)\r\n",
        "  return tf.keras.Model(inputs, net, name='prediction')"
      ],
      "execution_count": null,
      "outputs": []
    },
    {
      "cell_type": "code",
      "metadata": {
        "id": "aeRJGxGDxN0b"
      },
      "source": [
        "os.environ[\"TFHUB_MODEL_LOAD_FORMAT\"]=\"UNCOMPRESSED\"\r\n",
        "\r\n",
        "bert_preprocess_model = make_bert_preprocess_model([''], 256)"
      ],
      "execution_count": null,
      "outputs": []
    },
    {
      "cell_type": "code",
      "metadata": {
        "id": "VmV63Krcxql-",
        "colab": {
          "base_uri": "https://localhost:8080/"
        },
        "outputId": "b75c0d82-fe0d-4c53-c766-745a24ded5ba"
      },
      "source": [
        "from official.nlp import optimization\r\n",
        "history = {}\r\n",
        "with strategy.scope():\r\n",
        "  batch_size = 128\r\n",
        "  tf.config.run_functions_eagerly(False)\r\n",
        "  train_dataset, val_dataset, test_dataset = load_dataset_from_df(\r\n",
        "      train_df, targets, batch_size, bert_preprocess_model)\r\n",
        "  \r\n",
        "  epochs = 20\r\n",
        "  init_lr = 1e-5\r\n",
        "  steps_per_epoch = tf.data.experimental.cardinality(train_dataset).numpy()\r\n",
        "  num_train_steps = steps_per_epoch * epochs\r\n",
        "  num_warmup_steps = int(0.1*num_train_steps)\r\n",
        "  validation_steps = tf.data.experimental.cardinality(val_dataset).numpy()\r\n",
        "\r\n",
        "  classifier_model = build_classifier_model(20)\r\n",
        "\r\n",
        "  optimizer = optimization.create_optimizer(\r\n",
        "      init_lr=init_lr,\r\n",
        "      num_train_steps=num_train_steps,\r\n",
        "      num_warmup_steps=num_warmup_steps,\r\n",
        "      optimizer_type='adamw')\r\n",
        "\r\n",
        "  loss = tf.keras.losses.CategoricalCrossentropy(from_logits=True)\r\n",
        "  metrics = tf.metrics.CategoricalAccuracy()\r\n",
        "  classifier_model.compile(optimizer=optimizer, loss=loss, metrics=[metrics])\r\n",
        "\r\n",
        "  history = classifier_model.fit(\r\n",
        "      x=train_dataset,\r\n",
        "      validation_data=val_dataset,\r\n",
        "      steps_per_epoch=steps_per_epoch,\r\n",
        "      epochs=epochs,\r\n",
        "      validation_steps=validation_steps)"
      ],
      "execution_count": null,
      "outputs": []
    },
    {
      "cell_type": "code",
      "metadata": {
        "id": "GhJk4ErBuThA",
        "colab": {
          "base_uri": "https://localhost:8080/"
        },
        "outputId": "802b9c47-4d24-4107-c732-3de1f943ba02"
      },
      "source": [
        "classifier_model.evaluate(test_dataset)"
      ],
      "execution_count": null,
      "outputs": []
    },
    {
      "cell_type": "markdown",
      "metadata": {
        "id": "eZpN9bz4wL2D"
      },
      "source": [
        "Dodawanie dodatkowych warst Dense w modelu nigdy nie poprawiło wyniku, najlepsze wyniki były uzyskane dla Dropout 0.5"
      ]
    },
    {
      "cell_type": "code",
      "metadata": {
        "id": "C3q-1LLa2rny",
        "colab": {
          "base_uri": "https://localhost:8080/",
          "height": 207
        },
        "outputId": "1dc6578f-7f53-497f-fefb-07a7f8afc671"
      },
      "source": [
        "tf.keras.utils.plot_model(classifier_model, show_shapes=True)"
      ],
      "execution_count": null,
      "outputs": []
    },
    {
      "cell_type": "code",
      "metadata": {
        "colab": {
          "base_uri": "https://localhost:8080/",
          "height": 600
        },
        "id": "ssY6Q4kOBlAV",
        "outputId": "9202806d-5c48-4c7d-e4aa-d425d5b66217"
      },
      "source": [
        "history_dict = history.history\r\n",
        "print(history_dict.keys())\r\n",
        "\r\n",
        "acc = history_dict['categorical_accuracy']\r\n",
        "val_acc = history_dict['val_categorical_accuracy']\r\n",
        "loss = history_dict['loss']\r\n",
        "val_loss = history_dict['val_loss']\r\n",
        "\r\n",
        "epochs = range(1, len(acc) + 1)\r\n",
        "fig = plt.figure(figsize=(10, 6))\r\n",
        "fig.tight_layout()\r\n",
        "\r\n",
        "plt.subplot(2, 1, 1)\r\n",
        "# \"bo\" is for \"blue dot\"\r\n",
        "plt.plot(epochs, loss, 'r', label='Training loss')\r\n",
        "# b is for \"solid blue line\"\r\n",
        "plt.plot(epochs, val_loss, 'b', label='Validation loss')\r\n",
        "plt.title('Training and validation loss')\r\n",
        "# plt.xlabel('Epochs')\r\n",
        "plt.ylabel('Loss')\r\n",
        "plt.legend()\r\n",
        "\r\n",
        "plt.subplot(2, 1, 2)\r\n",
        "plt.plot(epochs, acc, 'r', label='Training acc')\r\n",
        "plt.plot(epochs, val_acc, 'b', label='Validation acc')\r\n",
        "plt.title('Training and validation accuracy')\r\n",
        "plt.xlabel('Epochs')\r\n",
        "plt.ylabel('Accuracy')\r\n",
        "plt.legend(loc='lower right')\r\n"
      ],
      "execution_count": null,
      "outputs": []
    },
    {
      "cell_type": "code",
      "metadata": {
        "id": "kX6newzAK4kS"
      },
      "source": [
        "submission_dataset = tf.data.Dataset.from_tensor_slices(bert_preprocess_model(test_df.values)).batch(batch_size)"
      ],
      "execution_count": null,
      "outputs": []
    },
    {
      "cell_type": "code",
      "metadata": {
        "id": "WV16CUJpLe7i"
      },
      "source": [
        "predictions = classifier_model.predict(submission_dataset)"
      ],
      "execution_count": null,
      "outputs": []
    },
    {
      "cell_type": "code",
      "metadata": {
        "id": "488Tr93-NFxb"
      },
      "source": [
        "predictions = [labels[np.argmax(prediction)] for prediction in predictions]"
      ],
      "execution_count": null,
      "outputs": []
    },
    {
      "cell_type": "code",
      "metadata": {
        "id": "lozULx3NN0AQ"
      },
      "source": [
        "sub = {'id': test_ids, 'cuisine': predictions}\r\n",
        "submission = pd.DataFrame(data=sub)"
      ],
      "execution_count": null,
      "outputs": []
    },
    {
      "cell_type": "code",
      "metadata": {
        "colab": {
          "base_uri": "https://localhost:8080/",
          "height": 424
        },
        "id": "CzouOIPoOHyF",
        "outputId": "bd34b621-da71-4fe4-bdc5-ce8716583ec2"
      },
      "source": [
        "submission"
      ],
      "execution_count": null,
      "outputs": []
    },
    {
      "cell_type": "code",
      "metadata": {
        "id": "Jzb0qv4ESNGL"
      },
      "source": [
        "submission.to_csv('bert_submission.csv', index=False)"
      ],
      "execution_count": null,
      "outputs": []
    },
    {
      "cell_type": "code",
      "metadata": {
        "colab": {
          "base_uri": "https://localhost:8080/"
        },
        "id": "c5m1jVmZSWeg",
        "outputId": "fcd92412-b819-434a-8733-be1246df9711"
      },
      "source": [
        "!kaggle competitions submit -f bert_submission.csv -m \"Bert submission\" -c whats-cooking"
      ],
      "execution_count": null,
      "outputs": []
    }
  ]
}